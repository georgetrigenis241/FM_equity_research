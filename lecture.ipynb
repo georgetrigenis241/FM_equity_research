{
 "cells": [
  {
   "cell_type": "markdown",
   "metadata": {
    "slideshow": {
     "slide_type": "slide"
    }
   },
   "source": [
    "# Equity Research"
   ]
  },
  {
   "cell_type": "markdown",
   "metadata": {
    "slideshow": {
     "slide_type": "slide"
    }
   },
   "source": [
    "An equity research analyst is a professional who evaluates public companies and provides recommendations on whether to buy, sell, or hold their stocks."
   ]
  },
  {
   "cell_type": "markdown",
   "metadata": {
    "slideshow": {
     "slide_type": "fragment"
    }
   },
   "source": [
    "**Buy-Side Analysts** work for institutional investors such as hedge funds and asset managers. Their primary objective is to identify profitable investment opportunities that align with their firm’s strategy. They conduct in-depth research, build financial models, and analyze market trends to support portfolio managers in making buy, hold, or sell decisions. Unlike sell-side analysts, their research is proprietary, used internally to maximize returns rather than being published for external clients."
   ]
  },
  {
   "cell_type": "markdown",
   "metadata": {
    "slideshow": {
     "slide_type": "fragment"
    }
   },
   "source": [
    "**Sell-side Analysts** work for brokerage firms and investment banks, where they provide research reports, stock recommendations, and earnings forecasts to institutional and retail investors. Their role involves analyzing companies, forecasting earnings, and publishing reports with investment ratings (e.g., buy, hold, or sell). These insights help institutional and retail investors make informed decisions and also support their firm’s trading desks and investment banking activities. Unlike buy-side analysts, sell-side analysts focus on generating market insights and often engage with clients and media to discuss their findings."
   ]
  },
  {
   "cell_type": "markdown",
   "metadata": {
    "slideshow": {
     "slide_type": "slide"
    }
   },
   "source": [
    "Today we are going to put ourselves in the shoes of a **Sell-Side** Equity Analyst. \n",
    "\n",
    "We are going to look at some of the tools we can use in Python to assist in building an equity research report for publication.\n",
    "We are not so much focussed on the process of formulating the analysis such as building a DCF.\n",
    "Rather we want to learn how to use the tools that can automate some of the work we may do as an analyst."
   ]
  },
  {
   "cell_type": "markdown",
   "metadata": {
    "slideshow": {
     "slide_type": "fragment"
    }
   },
   "source": [
    "**Step 1** will be to create a few handy functions"
   ]
  },
  {
   "cell_type": "markdown",
   "metadata": {
    "slideshow": {
     "slide_type": "fragment"
    }
   },
   "source": [
    "**Step 2** will be to pull in some live data from an application programming interface (API)"
   ]
  },
  {
   "cell_type": "markdown",
   "metadata": {
    "slideshow": {
     "slide_type": "fragment"
    }
   },
   "source": [
    "**Step 3** will be to scrape data from a website"
   ]
  },
  {
   "cell_type": "markdown",
   "metadata": {
    "slideshow": {
     "slide_type": "fragment"
    }
   },
   "source": [
    "**Step 4** will be to learn how to apply some Python functionality to this data, including the functions we have created and creating some graphs"
   ]
  },
  {
   "cell_type": "markdown",
   "metadata": {
    "slideshow": {
     "slide_type": "fragment"
    }
   },
   "source": [
    "**Step 5** will be to create a pdf file and import a csv file into Python"
   ]
  },
  {
   "cell_type": "markdown",
   "metadata": {},
   "source": [
    "# At the heart of your project:  FPDF\n",
    "\n",
    "FPDF is a lightweight Python library that enables you to programmatically create PDF documents. It allows for adding pages, custom headers and footers, formatted text, images, and more. With FPDF, you can  generate professional reports directly from Python code.\n"
   ]
  },
  {
   "cell_type": "code",
   "execution_count": null,
   "metadata": {},
   "outputs": [],
   "source": [
    "from fpdf import FPDF\n",
    "\n",
    "# Create a PDF object\n",
    "my_pdf = FPDF(orientation='P', unit='mm', format='A4')\n",
    "\n",
    "# Add a page\n",
    "my_pdf.add_page()\n",
    "\n",
    "# Set font\n",
    "my_pdf.set_font('Arial', 'B', 16)\n",
    "\n",
    "# Add text\n",
    "my_pdf.cell(40, 10, 'Hello World!')\n",
    "\n",
    "# Save the PDF\n",
    "my_pdf.output('hello_world.pdf')"
   ]
  },
  {
   "cell_type": "markdown",
   "metadata": {
    "slideshow": {
     "slide_type": "slide"
    }
   },
   "source": [
    "# Create some handy functions\n",
    "Here we are going to create some functions that we can call to do some calculations"
   ]
  },
  {
   "cell_type": "code",
   "execution_count": 1,
   "metadata": {
    "slideshow": {
     "slide_type": "subslide"
    }
   },
   "outputs": [],
   "source": [
    "# Function to calculate the P/E ratio of a stock\n",
    "def calculate_pe_ratio(price, earnings):\n",
    "    return price / earnings\n"
   ]
  },
  {
   "cell_type": "code",
   "execution_count": 3,
   "metadata": {},
   "outputs": [
    {
     "name": "stdout",
     "output_type": "stream",
     "text": [
      "The P/E ratio is:\n",
      "25.0\n"
     ]
    }
   ],
   "source": [
    "# call the P/E ratio function\n",
    "price = 100\n",
    "earnings = 4\n",
    "\n",
    "pe = calculate_pe_ratio(price, earnings)\n",
    "print(\"The P/E ratio is:\")\n",
    "print(pe)"
   ]
  },
  {
   "cell_type": "code",
   "execution_count": null,
   "metadata": {},
   "outputs": [],
   "source": [
    "# Function to calculate the earnings per share of a stock\n",
    "def calculate_eps(net_income, shares_outstanding):\n",
    "    return net_income / shares_outstanding"
   ]
  },
  {
   "cell_type": "code",
   "execution_count": null,
   "metadata": {
    "slideshow": {
     "slide_type": "subslide"
    }
   },
   "outputs": [],
   "source": [
    "# Function to calculate ROA of a stock\n",
    "def calculate_roa(net_income, total_assets):\n",
    "    return net_income / total_assets"
   ]
  },
  {
   "cell_type": "code",
   "execution_count": 7,
   "metadata": {
    "slideshow": {
     "slide_type": "subslide"
    }
   },
   "outputs": [],
   "source": [
    "# Function to calculate the earnings per share of a stock\n",
    "def calculate_eps(net_income, shares_outstanding):\n",
    "    return net_income / shares_outstanding"
   ]
  },
  {
   "cell_type": "code",
   "execution_count": null,
   "metadata": {
    "slideshow": {
     "slide_type": "subslide"
    }
   },
   "outputs": [],
   "source": [
    "# Function to calculate ROA of a stock\n",
    "def calculate_roa(net_income, total_assets):\n",
    "    return net_income / total_assets\n",
    "    this is good "
   ]
  },
  {
   "cell_type": "markdown",
   "metadata": {
    "slideshow": {
     "slide_type": "slide"
    }
   },
   "source": [
    "# Application Programming Interfaces (APIs)\n",
    "\n",
    "### Introducing APIs\n",
    " - An Application Programming Interface (API) is the means by which a computer program can interact with a service over the internet. \n",
    "\n",
    " ![Slide Image](images/API%20Diagram.jpg)\n",
    " "
   ]
  },
  {
   "cell_type": "markdown",
   "metadata": {
    "slideshow": {
     "slide_type": "slide"
    }
   },
   "source": [
    "### Why use APIs?\n",
    "\n",
    "- While we can use the browser (User Interface) in the simplest instance, implementing APIs into our program has many benefits:\n",
    "  - **Streamlining:** Sourcing data from websites, downloading the data in .csv format, and reading into our model requires a great deal of human labour (time costly and susceptible to human error). Accessing the data through an API directly is a much more streamline process.\n",
    "  - **Replicability:** If we write the API calls into our program dynamically, the model can update with new data in a single click. The source of this data is always known.\n",
    "  - **Customisability:** The data inputs can be altered to suit updated needs"
   ]
  },
  {
   "cell_type": "markdown",
   "metadata": {
    "slideshow": {
     "slide_type": "slide"
    }
   },
   "source": [
    "### Requests Python Library\n",
    "\n",
    "- “Requests” is a python library that enables interaction with REST APIs\n",
    "- The following are the main commands (“methods”) that are issued to a REST API:\n",
    "  - GET\n",
    "  - POST\n",
    "  - PUT\n",
    "  - DELETE\n",
    "- GET is the method we are going to be interested in since it enables us to retrieve data from a service\n",
    "- To install requests into your python environment, type the following at the terminal\n",
    "\n",
    "  - pip install requests\n",
    "\n",
    "![Slide Image](images/Requests.jpg)"
   ]
  },
  {
   "cell_type": "markdown",
   "metadata": {},
   "source": [
    "### Examples of APIs"
   ]
  },
  {
   "cell_type": "markdown",
   "metadata": {
    "slideshow": {
     "slide_type": "slide"
    }
   },
   "source": [
    "#### Joke of the Day API\n",
    "The \"Official Joke API\" is a free, public REST API that provides random jokes in JSON format. You can use it to retrieve jokes programmatically."
   ]
  },
  {
   "cell_type": "code",
   "execution_count": 1,
   "metadata": {
    "slideshow": {
     "slide_type": "subslide"
    }
   },
   "outputs": [
    {
     "name": "stdout",
     "output_type": "stream",
     "text": [
      "{'type': 'general', 'setup': \"What's the best time to go to the dentist?\", 'punchline': 'Tooth hurty.', 'id': 10}\n",
      "What's the best time to go to the dentist? \n",
      "Tooth hurty.\n"
     ]
    }
   ],
   "source": [
    "import requests\n",
    "url = \"https://official-joke-api.appspot.com/random_joke\"\n",
    "response = requests.get(url)\n",
    "print(response.json())\n",
    "\n",
    "joke = response.json()\n",
    "print(f\"{joke['setup']} \\n{joke['punchline']}\")"
   ]
  },
  {
   "cell_type": "markdown",
   "metadata": {
    "slideshow": {
     "slide_type": "slide"
    }
   },
   "source": [
    "\n",
    "#### Weather API\n",
    "Open Meteo is a free and open-source weather data API that provides access to real-time and historical weather data for locations around the world. It offers a range of weather data, including temperature, humidity, wind speed, and precipitation. This code uses a user input for latitude and longitude and uses a GET request to retrieve the weather data."
   ]
  },
  {
   "cell_type": "code",
   "execution_count": 11,
   "metadata": {
    "slideshow": {
     "slide_type": "subslide"
    }
   },
   "outputs": [
    {
     "name": "stdout",
     "output_type": "stream",
     "text": [
      "{'time': '2025-04-04T01:30', 'interval': 900, 'temperature': 23.3, 'windspeed': 0.7, 'winddirection': 180, 'is_day': 1, 'weathercode': 1}\n",
      "Weather information at -33,151\n"
     ]
    },
    {
     "data": {
      "application/vnd.microsoft.datawrangler.viewer.v0+json": {
       "columns": [
        {
         "name": "index",
         "rawType": "object",
         "type": "string"
        },
        {
         "name": "values",
         "rawType": "object",
         "type": "unknown"
        }
       ],
       "conversionMethod": "pd.DataFrame",
       "ref": "81915d50-481c-485c-9613-bef4c87ec6de",
       "rows": [
        [
         "time",
         "2025-04-04T01:30"
        ],
        [
         "interval",
         "900"
        ],
        [
         "temperature",
         "23.3"
        ],
        [
         "windspeed",
         "0.7"
        ],
        [
         "winddirection",
         "180"
        ],
        [
         "is_day",
         "1"
        ],
        [
         "weathercode",
         "1"
        ]
       ],
       "shape": {
        "columns": 1,
        "rows": 7
       }
      },
      "text/html": [
       "<div>\n",
       "<style scoped>\n",
       "    .dataframe tbody tr th:only-of-type {\n",
       "        vertical-align: middle;\n",
       "    }\n",
       "\n",
       "    .dataframe tbody tr th {\n",
       "        vertical-align: top;\n",
       "    }\n",
       "\n",
       "    .dataframe thead th {\n",
       "        text-align: right;\n",
       "    }\n",
       "</style>\n",
       "<table border=\"1\" class=\"dataframe\">\n",
       "  <thead>\n",
       "    <tr style=\"text-align: right;\">\n",
       "      <th></th>\n",
       "      <th>values</th>\n",
       "    </tr>\n",
       "  </thead>\n",
       "  <tbody>\n",
       "    <tr>\n",
       "      <th>time</th>\n",
       "      <td>2025-04-04T01:30</td>\n",
       "    </tr>\n",
       "    <tr>\n",
       "      <th>interval</th>\n",
       "      <td>900</td>\n",
       "    </tr>\n",
       "    <tr>\n",
       "      <th>temperature</th>\n",
       "      <td>23.3</td>\n",
       "    </tr>\n",
       "    <tr>\n",
       "      <th>windspeed</th>\n",
       "      <td>0.7</td>\n",
       "    </tr>\n",
       "    <tr>\n",
       "      <th>winddirection</th>\n",
       "      <td>180</td>\n",
       "    </tr>\n",
       "    <tr>\n",
       "      <th>is_day</th>\n",
       "      <td>1</td>\n",
       "    </tr>\n",
       "    <tr>\n",
       "      <th>weathercode</th>\n",
       "      <td>1</td>\n",
       "    </tr>\n",
       "  </tbody>\n",
       "</table>\n",
       "</div>"
      ],
      "text/plain": [
       "                         values\n",
       "time           2025-04-04T01:30\n",
       "interval                    900\n",
       "temperature                23.3\n",
       "windspeed                   0.7\n",
       "winddirection               180\n",
       "is_day                        1\n",
       "weathercode                   1"
      ]
     },
     "execution_count": 11,
     "metadata": {},
     "output_type": "execute_result"
    }
   ],
   "source": [
    "import pandas as pd\n",
    "\n",
    "# Ask user for latitude and longitude (e.g., Sydney is -33.891228, 151.19585)\n",
    "latitude = input(\"Enter latitude: \")\n",
    "longitude = input(\"Enter longitude: \")\n",
    "\n",
    "# We construct a URL that is specific to the latitude and longitude the user inputted.\n",
    "url = f'https://api.open-meteo.com/v1/forecast?latitude={latitude}&longitude={longitude}&current_weather=true&hourly=temperature_2m,relativehumidity_2m,windspeed_10m'\n",
    "response = requests.get(url)    # We can then query this URL using a GET request\n",
    "data = response.json()          # Format the response to json\n",
    "\n",
    "current_weather = data['current_weather']\n",
    "print(current_weather)\n",
    "print(f'Weather information at {latitude},{longitude}')\n",
    "pd.DataFrame.from_dict(current_weather, orient='index', columns=['values'])"
   ]
  },
  {
   "cell_type": "markdown",
   "metadata": {
    "slideshow": {
     "slide_type": "slide"
    }
   },
   "source": [
    "### yfinance API\n",
    "yfinance is a Python library that allows you to download financial data from Yahoo Finance. It provides a simple and convenient way to access historical stock prices, dividend data, and other financial data for publicly traded companies. With yfinance, you can easily download data for multiple stocks at once and perform analysis on the data using popular Python libraries like Pandas and Matplotlib.\n",
    "\n",
    "We will start by using our previously defined functions to produce some ratios and indicators for the stock."
   ]
  },
  {
   "cell_type": "code",
   "execution_count": 15,
   "metadata": {
    "slideshow": {
     "slide_type": "subslide"
    }
   },
   "outputs": [
    {
     "name": "stdout",
     "output_type": "stream",
     "text": [
      "Chosen Stock: NVDA \n",
      "Last Share Price: 101.80 \n",
      "PE Ratio: 34.08 \n",
      "Dividend Yield: 0.01% \n",
      "EPS: 2.99 \n",
      "ROA: 82.20%\n"
     ]
    }
   ],
   "source": [
    "import yfinance as yf\n",
    "\n",
    "# Take user input for ticker\n",
    "TICKER = input('Enter a stock ticker (e.g. BHP.AX): ').upper()\n",
    "\n",
    "try:\n",
    "    # Get stock information\n",
    "    stock = yf.Ticker(TICKER)\n",
    "    stock_prices = stock.history(period=\"10y\")\n",
    "    stock_info = stock.info\n",
    "    stock_financials = stock.financials\n",
    "    stock_balance_sheet = stock.balance_sheet\n",
    "\n",
    "    # Extract relevant information\n",
    "    last_price = stock_prices['Close'].iloc[-1]\n",
    "    earnings = stock_financials.loc[\"Net Income\"].iloc[0]\n",
    "    dividend = stock_info['lastDividendValue']\n",
    "    shares_outstanding = stock_info['sharesOutstanding']\n",
    "    total_assets = (stock_balance_sheet.loc[\"Total Assets\"].iloc[0] + stock_balance_sheet.loc[\"Total Assets\"].iloc[1]) / 2\n",
    "\n",
    "    dividend_yield = calculate_dividend_yield(dividend, last_price) * 100\n",
    "    eps = calculate_eps(earnings, shares_outstanding)\n",
    "    pe_ratio = calculate_pe_ratio(last_price, eps)\n",
    "    roa = calculate_roa(earnings, total_assets) * 100\n",
    "\n",
    "except Exception as e:\n",
    "    print(f\"Error: {e}\")\n",
    "\n",
    "print(f\"Chosen Stock: {TICKER} \\nLast Share Price: {last_price:.2f} \\nPE Ratio: {pe_ratio:.2f} \\nDividend Yield: {dividend_yield:.2f}% \\nEPS: {eps:.2f} \\nROA: {roa:.2f}%\")\n"
   ]
  },
  {
   "cell_type": "markdown",
   "metadata": {
    "slideshow": {
     "slide_type": "slide"
    }
   },
   "source": [
    "Now we will use the matplotlib package to graph the share price of our chosen stock."
   ]
  },
  {
   "cell_type": "code",
   "execution_count": 16,
   "metadata": {
    "slideshow": {
     "slide_type": "subslide"
    }
   },
   "outputs": [
    {
     "data": {
      "image/png": "[encoded data removed]",
      "text/plain": [
       "<Figure size 1000x500 with 1 Axes>"
      ]
     },
     "metadata": {},
     "output_type": "display_data"
    }
   ],
   "source": [
    "import matplotlib.pyplot as plt\n",
    "\n",
    "# Plot the stock prices\n",
    "plt.figure(figsize=(10, 5))\n",
    "plt.plot(stock_prices['Close'])\n",
    "plt.title(f\"{TICKER} Stock Prices\")\n",
    "plt.xlabel(\"Date\")\n",
    "plt.ylabel(\"Price\")\n",
    "plt.show()"
   ]
  },
  {
   "cell_type": "markdown",
   "metadata": {
    "slideshow": {
     "slide_type": "slide"
    }
   },
   "source": [
    "## Pandas read_html() function\n",
    "\n",
    "Pandas provides a `read_html()` function that allows you to extract tables from HTML web pages and convert them into Pandas DataFrames. This function is particularly useful for web scraping tasks where you need to extract data from HTML tables on a web page. The `read_html()` function can automatically detect and parse HTML tables from a web page and return them as a list of DataFrames. You can then manipulate the DataFrames using Pandas to perform further analysis or export the data to other formats."
   ]
  },
  {
   "cell_type": "code",
   "execution_count": 17,
   "metadata": {
    "slideshow": {
     "slide_type": "subslide"
    }
   },
   "outputs": [
    {
     "data": {
      "text/plain": [
       "0          a2 Milk Company\n",
       "1                    Adbri\n",
       "2    Abacus Property Group\n",
       "3               AGL Energy\n",
       "4         Auckland Airport\n",
       "Name: Company, dtype: object"
      ]
     },
     "execution_count": 17,
     "metadata": {},
     "output_type": "execute_result"
    }
   ],
   "source": [
    "# We will use read_html() to scrape the constituent stocks of the ASX200 index from Wikipedia\n",
    "asx200 = \"https://en.wikipedia.org/wiki/S%26P/ASX_200\"\n",
    "data = pd.read_html(asx200)\n",
    "\n",
    "for table in data:\n",
    "    if \"Company\" in table.columns:\n",
    "        asx200_constituents = table\n",
    "        break\n",
    "\n",
    "asx200_constituents = asx200_constituents[\"Company\"]\n",
    "asx200_constituents.head()"
   ]
  },
  {
   "cell_type": "markdown",
   "metadata": {
    "slideshow": {
     "slide_type": "slide"
    }
   },
   "source": [
    "## Reading Files Into Python\n",
    "\n",
    "We can read different types of files into Python. This section will show two ways of reading files, including a .txt file and a .csv file."
   ]
  },
  {
   "cell_type": "code",
   "execution_count": 18,
   "metadata": {
    "slideshow": {
     "slide_type": "subslide"
    }
   },
   "outputs": [
    {
     "name": "stdout",
     "output_type": "stream",
     "text": [
      "On track for 2030 and long term decarb targets: BHP has delivered strong results in the last two years with decarbonisation achieved\n",
      "ahead of its net zero trajectory. However, the company has highlighted uncertainties in the medium to longer term, as further GHG reduction\n",
      "would rely on new technologies that are not available yet. While organic growth presents a headwind for decarbonisation, BHP expects the additional emissions to be more than offset by new renewable\n",
      "Power Purchase Agreements. The capital commitment of ~US$4b is a nominal value, and we see upside risk to the Capex commitment given\n",
      "uncertainness of future technology availability and inflation pressures.\n",
      "Clarity on asset-level plans: The update provided further clarity on decarbonisation plans at the asset level, which we believe would be\n",
      "well-received by the market. Chilean operations will focus on diesel displacement at its boilers and truck fleet, while Australian assets will\n",
      "prioritise renewable power purchasing and decarbonisation at its trucks and locomotives.\n",
      "Fleet electrification the core to diesel displacement: For diesel displacement, BHP is firmly pursing the electrification of its large haul\n",
      "truck fleets. The company's studies highlighted that electricity as a fuel source for trucks boasts a high overall efficiency ratio of ~80%. This\n",
      "compares to a ratio of merely ~30% from hydrogen or diesel trucks.\n"
     ]
    }
   ],
   "source": [
    "# Read commentary from a text file\n",
    "commentary = \"\"\n",
    "with open(\"example_files/commentary.txt\", \"r\") as file:\n",
    "    commentary = file.read()\n",
    "\n",
    "print(commentary)\n",
    "\n"
   ]
  },
  {
   "cell_type": "code",
   "execution_count": 19,
   "metadata": {},
   "outputs": [
    {
     "name": "stdout",
     "output_type": "stream",
     "text": [
      "  Expiration Date  Last Sale    Net     Bid      Ask  Volume   IV  Delta  \\\n",
      "0      2025-01-29       0.00  0.000  3625.8  3649.80       0  0.0    1.0   \n",
      "1      2025-01-29       0.05  0.025     0.0     0.05      11  0.0    0.0   \n",
      "2      2025-01-29       0.00  0.000  3425.9  3449.90       0  0.0    1.0   \n",
      "3      2025-01-29       0.15  0.000     0.0     0.05       0  0.0    0.0   \n",
      "4      2025-01-29       0.00  0.000  3226.0  3250.00       0  0.0    1.0   \n",
      "\n",
      "   Gamma  Open Interest  Strike  Type  Index Spot  \n",
      "0    0.0              0  2400.0  Call   6039.3101  \n",
      "1    0.0            337  2400.0   Put   6039.3101  \n",
      "2    0.0              7  2600.0  Call   6039.3101  \n",
      "3    0.0            319  2600.0   Put   6039.3101  \n",
      "4    0.0              7  2800.0  Call   6039.3101  \n"
     ]
    }
   ],
   "source": [
    "# Read data from a CSV file\n",
    "options_data = pd.read_csv(\"example_files/spx_options_combined.csv\")\n",
    "print(options_data.head())"
   ]
  },
  {
   "cell_type": "markdown",
   "metadata": {
    "slideshow": {
     "slide_type": "slide"
    }
   },
   "source": [
    "## Reading Excel Files with Pandas\n",
    "Pandas provides a highly efficient and flexible way to read Excel files into DataFrames, allowing you to easily manipulate and analyse your data in Python. The process involves using the read_excel function, which offers a range of parameters to customize how data is imported. You can specify the file path, select a particular worksheet, choose specific columns, skip unnecessary rows, and limit the number of rows to read. This flexibility makes it possible to focus on just the relevant parts of your data.\n",
    "\n"
   ]
  },
  {
   "cell_type": "code",
   "execution_count": 20,
   "metadata": {
    "slideshow": {
     "slide_type": "subslide"
    }
   },
   "outputs": [
    {
     "name": "stdout",
     "output_type": "stream",
     "text": [
      "Excel NPV: 34,410.25\n",
      "Python NPV: 34,410.25\n"
     ]
    }
   ],
   "source": [
    "import pandas as pd\n",
    "\n",
    "# Read the excel file\n",
    "df = pd.read_excel('example_files/DCF_test.xlsx', sheet_name=\"Sheet1\", usecols='A:L', skiprows=0, nrows=4)\n",
    "\n",
    "# We can check if Python and Excel achieve the same NPV value\n",
    "\n",
    "excel_npv = df.iloc[-1,1] # get the NPV value from the last row and second column\n",
    "\n",
    "python_npv = sum(df.iloc[0, 1:] * df.iloc[1, 1:]) # calculate the NPV using Python\n",
    "\n",
    "print(f'Excel NPV: {excel_npv:,.2f}')\n",
    "print(f'Python NPV: {python_npv:,.2f}')\n"
   ]
  }
 ],
 "metadata": {
  "kernelspec": {
   "display_name": "Python 3",
   "language": "python",
   "name": "python3"
  },
  "language_info": {
   "codemirror_mode": {
    "name": "ipython",
    "version": 3
   },
   "file_extension": ".py",
   "mimetype": "text/x-python",
   "name": "python",
   "nbconvert_exporter": "python",
   "pygments_lexer": "ipython3",
   "version": "3.12.1"
  }
 },
 "nbformat": 4,
 "nbformat_minor": 2
}
